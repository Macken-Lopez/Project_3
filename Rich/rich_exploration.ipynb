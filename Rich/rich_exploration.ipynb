{
 "cells": [
  {
   "cell_type": "code",
   "execution_count": null,
   "metadata": {},
   "outputs": [],
   "source": [
    "import pandas as pd\n",
    "import env\n",
    "import numpy as np\n",
    "import matplotlib.pyplot as plt\n",
    "import seaborn as sns\n",
    "from sklearn.cluster import KMeans\n",
    "from sklearn.preprocessing import MinMaxScaler, RobustScaler\n",
    "from sklearn.model_selection import train_test_split\n",
    "import warnings\n",
    "warnings.filterwarnings('ignore')\n",
    "\n",
    "def get_connection(db, user=env.user, host=env.host, password=env.password):\n",
    "    return f'mysql+pymysql://{user}:{password}@{host}/{db}'\n",
    "\n",
    "\n",
    "def get_zillow_data():\n",
    "    query = '''\n",
    "    select prop.parcelid\n",
    "        , pred.logerror\n",
    "        , bathroomcnt\n",
    "        , bedroomcnt\n",
    "        , calculatedfinishedsquarefeet\n",
    "        , fips\n",
    "        , latitude\n",
    "        , longitude\n",
    "        , lotsizesquarefeet\n",
    "        , regionidcity\n",
    "        , regionidcounty\n",
    "        , regionidzip\n",
    "        , yearbuilt\n",
    "        , structuretaxvaluedollarcnt\n",
    "        , taxvaluedollarcnt\n",
    "        , landtaxvaluedollarcnt\n",
    "        , taxamount\n",
    "    from properties_2017 prop\n",
    "    inner join predictions_2017 pred on prop.parcelid = pred.parcelid\n",
    "    where propertylandusetypeid = 261;\n",
    "    '''\n",
    "    return pd.read_sql(query, get_connection('zillow'))\n",
    "\n",
    "\n",
    "\n",
    "\n",
    "\n",
    "    df = get_zillow_data()\n",
    "\n"
   ]
  }
 ],
 "metadata": {
  "kernelspec": {
   "display_name": "Python 3.9.10 ('base')",
   "language": "python",
   "name": "python3"
  },
  "language_info": {
   "name": "python",
   "version": "3.9.10"
  },
  "orig_nbformat": 4,
  "vscode": {
   "interpreter": {
    "hash": "38cca0c38332a56087b24af0bc80247f4fced29cb4f7f437d91dc159adec9c4e"
   }
  }
 },
 "nbformat": 4,
 "nbformat_minor": 2
}
